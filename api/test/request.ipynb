{
 "cells": [
  {
   "cell_type": "code",
   "execution_count": 7,
   "metadata": {},
   "outputs": [],
   "source": [
    "import requests\n",
    "# URL of the FastAPI endpoint\n",
    "ENDPOINT_URL = 'https://ty5whne207.execute-api.us-east-1.amazonaws.com/dev/Benefits-AI-ID-Extract-Handler'\n",
    "DUMMY_IMAGE_PATH = 'dummy_image.jpg'"
   ]
  },
  {
   "cell_type": "code",
   "execution_count": 8,
   "metadata": {},
   "outputs": [
    {
     "data": {
      "text/plain": [
       "{'ADDITIONAL_INFORMATION': {'MIDDLE_NAME': '',\n",
       "  'SUFFIX': '',\n",
       "  'CITY_IN_ADDRESS': '',\n",
       "  'ZIP_CODE_IN_ADDRESS': '',\n",
       "  'STATE_IN_ADDRESS': '',\n",
       "  'STATE_NAME': '',\n",
       "  'DOCUMENT_NUMBER': '42442500618',\n",
       "  'EXPIRATION_DATE': '19 ARA/DEC 2021',\n",
       "  'DATE_OF_ISSUE': '19 ARA/DEC 2011',\n",
       "  'ENDORSEMENTS': '',\n",
       "  'VETERAN': '',\n",
       "  'RESTRICTIONS': '',\n",
       "  'CLASS': '',\n",
       "  'ADDRESS': '',\n",
       "  'COUNTY': '',\n",
       "  'PLACE_OF_BIRTH': 'CATALCA',\n",
       "  'MRZ_CODE': 'P<TUREVRENSEL<<MELIH<<<<<<<<<<<<<<<<<<<<<<<\\n037893279TUR2401265M211219442442500618<<<44'},\n",
       " 'FIRST_NAME': 'MELIH',\n",
       " 'LAST_NAME': 'EVRENSEL',\n",
       " 'DATE_OF_BIRTH': '26 OCA/JAN 1924',\n",
       " 'ID_TYPE': 'PASSPORT'}"
      ]
     },
     "execution_count": 8,
     "metadata": {},
     "output_type": "execute_result"
    }
   ],
   "source": [
    "with open(DUMMY_IMAGE_PATH, 'rb') as image_file:\n",
    "    image_data = image_file.read()\n",
    "\n",
    "# Send the POST request with the image data\n",
    "headers = {'Content-Type': 'image/jpeg'}  # Adjust the content type based on your image format\n",
    "response = requests.post(ENDPOINT_URL, data=image_data, headers=headers)\n",
    "response.json()"
   ]
  }
 ],
 "metadata": {
  "kernelspec": {
   "display_name": "Python 3",
   "language": "python",
   "name": "python3"
  },
  "language_info": {
   "codemirror_mode": {
    "name": "ipython",
    "version": 3
   },
   "file_extension": ".py",
   "mimetype": "text/x-python",
   "name": "python",
   "nbconvert_exporter": "python",
   "pygments_lexer": "ipython3",
   "version": "3.10.12"
  }
 },
 "nbformat": 4,
 "nbformat_minor": 2
}
