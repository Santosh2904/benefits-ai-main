{
 "cells": [
  {
   "cell_type": "code",
   "execution_count": 31,
   "metadata": {},
   "outputs": [],
   "source": [
    "import httpx"
   ]
  },
  {
   "cell_type": "code",
   "execution_count": 32,
   "metadata": {},
   "outputs": [],
   "source": [
    "# URL of the FastAPI endpoint\n",
    "ENDPOINT_URL = 'http://127.0.0.1:8000/id-extract/'\n",
    "DUMMY_IMAGE_PATH = 'dummy_image.jpg'"
   ]
  },
  {
   "cell_type": "code",
   "execution_count": 33,
   "metadata": {},
   "outputs": [
    {
     "name": "stdout",
     "output_type": "stream",
     "text": [
      "{'first_name': 'John', 'last_name': 'Doe', 'sex': 'M', 'date_of_birth': '1985-05-23', 'address_line_1': '271 Huntington Av', 'address_line_2': 'Ste 3', 'city': 'Boston', 'state': 'Massachusetts', 'misc': {}}\n"
     ]
    }
   ],
   "source": [
    "file = {'file': (DUMMY_IMAGE_PATH, open(DUMMY_IMAGE_PATH, 'rb'), 'image/jpeg')}\n",
    "async with httpx.AsyncClient() as client:\n",
    "    response = await client.post(ENDPOINT_URL, files=file)\n",
    "    print(response.json())"
   ]
  }
 ],
 "metadata": {
  "kernelspec": {
   "display_name": "Python 3",
   "language": "python",
   "name": "python3"
  },
  "language_info": {
   "codemirror_mode": {
    "name": "ipython",
    "version": 3
   },
   "file_extension": ".py",
   "mimetype": "text/x-python",
   "name": "python",
   "nbconvert_exporter": "python",
   "pygments_lexer": "ipython3",
   "version": "3.10.12"
  }
 },
 "nbformat": 4,
 "nbformat_minor": 2
}
