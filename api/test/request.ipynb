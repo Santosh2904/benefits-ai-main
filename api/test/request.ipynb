{
 "cells": [
  {
   "cell_type": "code",
   "execution_count": 15,
   "metadata": {},
   "outputs": [],
   "source": [
    "import httpx\n",
    "# URL of the FastAPI endpoint\n",
    "ENDPOINT_URL = 'http://18.235.248.248:8000/id-extract/'\n",
    "DUMMY_IMAGE_PATH = 'dummy_image.jpg'"
   ]
  },
  {
   "cell_type": "code",
   "execution_count": 16,
   "metadata": {},
   "outputs": [
    {
     "name": "stdout",
     "output_type": "stream",
     "text": [
      "{'ADDITIONAL_INFORMATION': {'MIDDLE_NAME': '', 'SUFFIX': '', 'CITY_IN_ADDRESS': 'NORTH QUINCY', 'STATE_IN_ADDRESS': 'MA', 'STATE_NAME': 'MASSACHUSETTS', 'DOCUMENT_NUMBER': 'S99988801', 'EXPIRATION_DATE': '01/12/2021', 'DATE_OF_ISSUE': '01/12/2016', 'ENDORSEMENTS': 'NONE', 'VETERAN': 'VETERAN', 'RESTRICTIONS': 'NONE', 'CLASS': 'D', 'COUNTY': '', 'PLACE_OF_BIRTH': '', 'MRZ_CODE': ''}, 'FIRST_NAME': 'CONNOR', 'LAST_NAME': 'SAMPLE', 'ZIP_CODE_IN_ADDRESS': '021711748', 'DATE_OF_BIRTH': '01/12/1959', 'ID_TYPE': 'DRIVER LICENSE FRONT', 'ADDRESS': '123 NORTH MAIN STREET APT. 1'}\n"
     ]
    }
   ],
   "source": [
    "file = {'file': (DUMMY_IMAGE_PATH, open(DUMMY_IMAGE_PATH, 'rb'), 'image/jpeg')}\n",
    "async with httpx.AsyncClient() as client:\n",
    "    response = await client.post(ENDPOINT_URL, files=file)\n",
    "    print(response.json())"
   ]
  }
 ],
 "metadata": {
  "kernelspec": {
   "display_name": "Python 3",
   "language": "python",
   "name": "python3"
  },
  "language_info": {
   "codemirror_mode": {
    "name": "ipython",
    "version": 3
   },
   "file_extension": ".py",
   "mimetype": "text/x-python",
   "name": "python",
   "nbconvert_exporter": "python",
   "pygments_lexer": "ipython3",
   "version": "3.10.12"
  }
 },
 "nbformat": 4,
 "nbformat_minor": 2
}
