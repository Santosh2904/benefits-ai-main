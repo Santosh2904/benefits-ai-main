{
 "cells": [
  {
   "cell_type": "code",
   "execution_count": 17,
   "metadata": {},
   "outputs": [],
   "source": [
    "import requests\n",
    "# URL of the FastAPI endpoint\n",
    "ENDPOINT_URL = 'https://ty5whne207.execute-api.us-east-1.amazonaws.com/dev/Benefits-AI-ID-Extract-Handler'\n",
    "DUMMY_IMAGE_PATH = 'dummy_image.jpg'"
   ]
  },
  {
   "cell_type": "code",
   "execution_count": 18,
   "metadata": {},
   "outputs": [
    {
     "data": {
      "text/plain": [
       "{'ADDITIONAL_INFORMATION': {'MIDDLE_NAME': '',\n",
       "  'SUFFIX': '',\n",
       "  'CITY_IN_ADDRESS': 'NORTH QUINCY',\n",
       "  'STATE_IN_ADDRESS': 'MA',\n",
       "  'STATE_NAME': 'MASSACHUSETTS',\n",
       "  'DOCUMENT_NUMBER': 'S99988801',\n",
       "  'EXPIRATION_DATE': '01/12/2021',\n",
       "  'DATE_OF_ISSUE': '01/12/2016',\n",
       "  'ENDORSEMENTS': 'NONE',\n",
       "  'VETERAN': 'VETERAN',\n",
       "  'RESTRICTIONS': 'NONE',\n",
       "  'CLASS': 'D',\n",
       "  'COUNTY': '',\n",
       "  'PLACE_OF_BIRTH': '',\n",
       "  'MRZ_CODE': ''},\n",
       " 'FIRST_NAME': 'CONNOR',\n",
       " 'LAST_NAME': 'SAMPLE',\n",
       " 'ZIP_CODE_IN_ADDRESS': '021711748',\n",
       " 'DATE_OF_BIRTH': '01/12/1959',\n",
       " 'ID_TYPE': 'DRIVER LICENSE FRONT',\n",
       " 'ADDRESS': '123 NORTH MAIN STREET APT. 1'}"
      ]
     },
     "execution_count": 18,
     "metadata": {},
     "output_type": "execute_result"
    }
   ],
   "source": [
    "with open(DUMMY_IMAGE_PATH, 'rb') as image_file:\n",
    "    image_data = image_file.read()\n",
    "\n",
    "# Send the POST request with the image data\n",
    "headers = {'Content-Type': 'image/jpeg'}  # Adjust the content type based on your image format\n",
    "response = requests.post(ENDPOINT_URL, data=image_data, headers=headers)\n",
    "response.json()"
   ]
  }
 ],
 "metadata": {
  "kernelspec": {
   "display_name": "Python 3",
   "language": "python",
   "name": "python3"
  },
  "language_info": {
   "codemirror_mode": {
    "name": "ipython",
    "version": 3
   },
   "file_extension": ".py",
   "mimetype": "text/x-python",
   "name": "python",
   "nbconvert_exporter": "python",
   "pygments_lexer": "ipython3",
   "version": "3.10.12"
  }
 },
 "nbformat": 4,
 "nbformat_minor": 2
}
